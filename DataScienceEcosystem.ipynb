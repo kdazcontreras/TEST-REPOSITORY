{
  "metadata": {
    "kernelspec": {
      "name": "python",
      "display_name": "Python (Pyodide)",
      "language": "python"
    },
    "language_info": {
      "codemirror_mode": {
        "name": "python",
        "version": 3
      },
      "file_extension": ".py",
      "mimetype": "text/x-python",
      "name": "python",
      "nbconvert_exporter": "python",
      "pygments_lexer": "ipython3",
      "version": "3.8"
    }
  },
  "nbformat_minor": 5,
  "nbformat": 4,
  "cells": [
    {
      "id": "14641cc1-6bf7-4cb4-99a1-47b03d0db902",
      "cell_type": "markdown",
      "source": "# Data Science Tools and Ecosystem",
      "metadata": {}
    },
    {
      "id": "9edd9c87-4425-467c-8ff9-c095e8375ce6",
      "cell_type": "markdown",
      "source": "# In this notebook, Data Science Tools and Ecosystem are summarized.",
      "metadata": {}
    },
    {
      "id": "fc048eff-d7cc-4d44-b66d-ba1742c774f8",
      "cell_type": "markdown",
      "source": "# Some of the popular languages that Data Scientists use are:\n# 1. Python\n# 2. R\n# 3. SQL\n",
      "metadata": {}
    },
    {
      "id": "4ba7c0a5-1c2f-464f-8c0d-d3143600f3ff",
      "cell_type": "markdown",
      "source": "# Some of the commonly used libraries used by Data Scientists include:\n# 1. pandas\n# 2. numpy\n# 3. matplotlib\n# 4. scikit-learn\n",
      "metadata": {}
    },
    {
      "id": "65bef2c2-1ef8-472e-8d79-d24bc6c0170b",
      "cell_type": "markdown",
      "source": "# | Data Science Tools |\n# |--------------------|\n# | Jupyter            |\n# | RStudio            |\n# | VSCode             |\n",
      "metadata": {}
    },
    {
      "id": "dbfd1af2-67cb-469f-a5c2-16bf48759d60",
      "cell_type": "markdown",
      "source": "### Below are a few examples of evaluating arithmetic expressions in Python\n",
      "metadata": {}
    },
    {
      "id": "d8340cb9-40e7-45f1-ad1e-dfd8b4eefc97",
      "cell_type": "code",
      "source": "# This is a simple arithmetic expression to multiply then add integers\nresult = (3 * 4) + 5\nresult\n",
      "metadata": {
        "trusted": true
      },
      "outputs": [
        {
          "execution_count": 8,
          "output_type": "execute_result",
          "data": {
            "text/plain": "17"
          },
          "metadata": {}
        }
      ],
      "execution_count": 8
    },
    {
      "id": "4dc6bed9-65a9-4267-8bdb-99a55883989a",
      "cell_type": "code",
      "source": "# This will convert 200 minutes to hours by dividing by 60\nminutes = 200\nhours = minutes / 60\nhours\n",
      "metadata": {
        "trusted": true
      },
      "outputs": [
        {
          "execution_count": 10,
          "output_type": "execute_result",
          "data": {
            "text/plain": "3.3333333333333335"
          },
          "metadata": {}
        }
      ],
      "execution_count": 10
    },
    {
      "id": "aff66d2d-4d7c-4a86-8cf0-58c5598cdcf3",
      "cell_type": "markdown",
      "source": "# Objectives:\n# - List popular languages for Data Science\n# - List common libraries used by Data Scientists\n# - Show examples of arithmetic expressions in Python\n# - Show how to convert minutes to hours in Python\n",
      "metadata": {}
    },
    {
      "id": "6f0683a4-6242-4c32-927d-259c832db027",
      "cell_type": "markdown",
      "source": "## Author\n## Katalina Díaz\n",
      "metadata": {}
    },
    {
      "id": "416acb62-5e5d-454c-b795-16260b3601d5",
      "cell_type": "code",
      "source": "",
      "metadata": {
        "trusted": true
      },
      "outputs": [],
      "execution_count": null
    }
  ]
}